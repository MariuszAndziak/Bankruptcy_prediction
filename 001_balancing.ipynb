{
 "metadata": {
  "language_info": {
   "codemirror_mode": {
    "name": "ipython",
    "version": 3
   },
   "file_extension": ".py",
   "mimetype": "text/x-python",
   "name": "python",
   "nbconvert_exporter": "python",
   "pygments_lexer": "ipython3",
   "version": "3.7.5"
  },
  "orig_nbformat": 2,
  "kernelspec": {
   "name": "python375jvsc74a57bd0423b8b96d4e1ec477b5c8920e05a523372dc7245eb6302a2ca5de114e24c04c2",
   "display_name": "Python 3.7.5 64-bit"
  }
 },
 "nbformat": 4,
 "nbformat_minor": 2,
 "cells": [
  {
   "cell_type": "code",
   "execution_count": 55,
   "metadata": {},
   "outputs": [],
   "source": [
    "import numpy as np\n",
    "import pandas as pd"
   ]
  },
  {
   "cell_type": "code",
   "execution_count": 56,
   "metadata": {},
   "outputs": [],
   "source": [
    "# load dataset\n",
    "df = pd.read_csv('data.csv')"
   ]
  },
  {
   "cell_type": "code",
   "execution_count": 57,
   "metadata": {},
   "outputs": [
    {
     "output_type": "execute_result",
     "data": {
      "text/plain": [
       "(6819, 96)"
      ]
     },
     "metadata": {},
     "execution_count": 57
    }
   ],
   "source": [
    "# see how many observations and features are there\n",
    "df.shape"
   ]
  },
  {
   "cell_type": "code",
   "execution_count": 58,
   "metadata": {},
   "outputs": [
    {
     "output_type": "execute_result",
     "data": {
      "text/plain": [
       "0"
      ]
     },
     "metadata": {},
     "execution_count": 58
    }
   ],
   "source": [
    "# check if we should impute any data\n",
    "df.isna().sum().sum() # no imputation necessary"
   ]
  },
  {
   "cell_type": "code",
   "execution_count": 59,
   "metadata": {},
   "outputs": [
    {
     "output_type": "execute_result",
     "data": {
      "text/plain": [
       "      Bankrupt?   ROA(C) before interest and depreciation before interest  \\\n",
       "1499          0                                           0.504997          \n",
       "1464          0                                           0.557110          \n",
       "3454          0                                           0.644518          \n",
       "\n",
       "       ROA(A) before interest and % after tax  \\\n",
       "1499                                 0.545519   \n",
       "1464                                 0.608373   \n",
       "3454                                 0.659507   \n",
       "\n",
       "       ROA(B) before interest and depreciation after tax  \\\n",
       "1499                                           0.548263    \n",
       "1464                                           0.592055    \n",
       "3454                                           0.690508    \n",
       "\n",
       "       Operating Gross Margin   Realized Sales Gross Margin  \\\n",
       "1499                 0.610956                      0.610876   \n",
       "1464                 0.611914                      0.611914   \n",
       "3454                 0.627459                      0.627459   \n",
       "\n",
       "       Operating Profit Rate   Pre-tax net Interest Rate  \\\n",
       "1499                0.999010                    0.797398   \n",
       "1464                0.999095                    0.797534   \n",
       "3454                0.999425                    0.797974   \n",
       "\n",
       "       After-tax net Interest Rate  \\\n",
       "1499                      0.809315   \n",
       "1464                      0.809416   \n",
       "3454                      0.809833   \n",
       "\n",
       "       Non-industry income and expenditure/revenue  ...  \\\n",
       "1499                                      0.303454  ...   \n",
       "1464                                      0.303514  ...   \n",
       "3454                                      0.303591  ...   \n",
       "\n",
       "       Net Income to Total Assets   Total assets to GNP price  \\\n",
       "1499                     0.797125                    0.001459   \n",
       "1464                     0.832448                    0.000421   \n",
       "3454                     0.866871                    0.555479   \n",
       "\n",
       "       No-credit Interval   Gross Profit to Sales  \\\n",
       "1499             0.623606                0.610955   \n",
       "1464             0.623885                0.611912   \n",
       "3454             0.623305                0.627457   \n",
       "\n",
       "       Net Income to Stockholder's Equity   Liability to Equity  \\\n",
       "1499                             0.840175              0.284586   \n",
       "1464                             0.844421              0.285362   \n",
       "3454                             0.843716              0.275535   \n",
       "\n",
       "       Degree of Financial Leverage (DFL)  \\\n",
       "1499                             0.031054   \n",
       "1464                             0.026870   \n",
       "3454                             0.026796   \n",
       "\n",
       "       Interest Coverage Ratio (Interest expense to EBIT)   Net Income Flag  \\\n",
       "1499                                           0.569196                   1   \n",
       "1464                                           0.565508                   1   \n",
       "3454                                           0.565183                   1   \n",
       "\n",
       "       Equity to Liability  \n",
       "1499              0.020006  \n",
       "1464              0.019295  \n",
       "3454              0.123572  \n",
       "\n",
       "[3 rows x 96 columns]"
      ],
      "text/html": "<div>\n<style scoped>\n    .dataframe tbody tr th:only-of-type {\n        vertical-align: middle;\n    }\n\n    .dataframe tbody tr th {\n        vertical-align: top;\n    }\n\n    .dataframe thead th {\n        text-align: right;\n    }\n</style>\n<table border=\"1\" class=\"dataframe\">\n  <thead>\n    <tr style=\"text-align: right;\">\n      <th></th>\n      <th>Bankrupt?</th>\n      <th>ROA(C) before interest and depreciation before interest</th>\n      <th>ROA(A) before interest and % after tax</th>\n      <th>ROA(B) before interest and depreciation after tax</th>\n      <th>Operating Gross Margin</th>\n      <th>Realized Sales Gross Margin</th>\n      <th>Operating Profit Rate</th>\n      <th>Pre-tax net Interest Rate</th>\n      <th>After-tax net Interest Rate</th>\n      <th>Non-industry income and expenditure/revenue</th>\n      <th>...</th>\n      <th>Net Income to Total Assets</th>\n      <th>Total assets to GNP price</th>\n      <th>No-credit Interval</th>\n      <th>Gross Profit to Sales</th>\n      <th>Net Income to Stockholder's Equity</th>\n      <th>Liability to Equity</th>\n      <th>Degree of Financial Leverage (DFL)</th>\n      <th>Interest Coverage Ratio (Interest expense to EBIT)</th>\n      <th>Net Income Flag</th>\n      <th>Equity to Liability</th>\n    </tr>\n  </thead>\n  <tbody>\n    <tr>\n      <th>1499</th>\n      <td>0</td>\n      <td>0.504997</td>\n      <td>0.545519</td>\n      <td>0.548263</td>\n      <td>0.610956</td>\n      <td>0.610876</td>\n      <td>0.999010</td>\n      <td>0.797398</td>\n      <td>0.809315</td>\n      <td>0.303454</td>\n      <td>...</td>\n      <td>0.797125</td>\n      <td>0.001459</td>\n      <td>0.623606</td>\n      <td>0.610955</td>\n      <td>0.840175</td>\n      <td>0.284586</td>\n      <td>0.031054</td>\n      <td>0.569196</td>\n      <td>1</td>\n      <td>0.020006</td>\n    </tr>\n    <tr>\n      <th>1464</th>\n      <td>0</td>\n      <td>0.557110</td>\n      <td>0.608373</td>\n      <td>0.592055</td>\n      <td>0.611914</td>\n      <td>0.611914</td>\n      <td>0.999095</td>\n      <td>0.797534</td>\n      <td>0.809416</td>\n      <td>0.303514</td>\n      <td>...</td>\n      <td>0.832448</td>\n      <td>0.000421</td>\n      <td>0.623885</td>\n      <td>0.611912</td>\n      <td>0.844421</td>\n      <td>0.285362</td>\n      <td>0.026870</td>\n      <td>0.565508</td>\n      <td>1</td>\n      <td>0.019295</td>\n    </tr>\n    <tr>\n      <th>3454</th>\n      <td>0</td>\n      <td>0.644518</td>\n      <td>0.659507</td>\n      <td>0.690508</td>\n      <td>0.627459</td>\n      <td>0.627459</td>\n      <td>0.999425</td>\n      <td>0.797974</td>\n      <td>0.809833</td>\n      <td>0.303591</td>\n      <td>...</td>\n      <td>0.866871</td>\n      <td>0.555479</td>\n      <td>0.623305</td>\n      <td>0.627457</td>\n      <td>0.843716</td>\n      <td>0.275535</td>\n      <td>0.026796</td>\n      <td>0.565183</td>\n      <td>1</td>\n      <td>0.123572</td>\n    </tr>\n  </tbody>\n</table>\n<p>3 rows × 96 columns</p>\n</div>"
     },
     "metadata": {},
     "execution_count": 59
    }
   ],
   "source": [
    "# get a glimple of the dataset\n",
    "df.sample(3)"
   ]
  },
  {
   "cell_type": "code",
   "execution_count": 60,
   "metadata": {},
   "outputs": [],
   "source": [
    "# find dependent and independent vaiables\n",
    "target = 'Bankrupt?'\n",
    "all_feats = df.columns.to_list()\n",
    "if target in all_feats: all_feats.remove(target)"
   ]
  },
  {
   "cell_type": "code",
   "execution_count": 61,
   "metadata": {},
   "outputs": [
    {
     "output_type": "execute_result",
     "data": {
      "text/plain": [
       "0    0.967737\n",
       "1    0.032263\n",
       "Name: Bankrupt?, dtype: float64"
      ]
     },
     "metadata": {},
     "execution_count": 61
    }
   ],
   "source": [
    "# check for imbalance\n",
    "df[target].value_counts(normalize=True) # the dataset is clearly imbalances"
   ]
  },
  {
   "cell_type": "code",
   "execution_count": 62,
   "metadata": {},
   "outputs": [],
   "source": [
    "# divide the data into depdendet and independent variables\n",
    "Xv = df.drop(target, axis=1)\n",
    "yv = df[target]"
   ]
  },
  {
   "cell_type": "code",
   "execution_count": 63,
   "metadata": {},
   "outputs": [],
   "source": [
    "X = Xv.values\n",
    "y = yv.values"
   ]
  },
  {
   "cell_type": "code",
   "execution_count": null,
   "metadata": {},
   "outputs": [],
   "source": [
    "# SMOTE combined with Under Sampling will be used to balance the dataset"
   ]
  },
  {
   "cell_type": "code",
   "execution_count": 18,
   "metadata": {},
   "outputs": [],
   "source": [
    "from imblearn.over_sampling import SMOTE\n",
    "from imblearn.under_sampling import RandomUnderSampler\n",
    "\n",
    "from sklearn.model_selection import cross_val_score\n",
    "from sklearn.model_selection import StratifiedKFold"
   ]
  },
  {
   "cell_type": "code",
   "execution_count": 29,
   "metadata": {},
   "outputs": [],
   "source": [
    "from imblearn.pipeline import Pipeline"
   ]
  },
  {
   "cell_type": "code",
   "execution_count": 64,
   "metadata": {},
   "outputs": [],
   "source": [
    "# divide the dataset into train and validate in order to build \n",
    "# a basic clasyfication model\n",
    "skf = StratifiedKFold(n_splits=2)\n",
    "for train_index, valid_index in skf.split(X,y):\n",
    "    X_train, X_valid = X[train_index], X[valid_index]\n",
    "    y_train, y_valid = y[train_index], y[valid_index]"
   ]
  },
  {
   "cell_type": "code",
   "execution_count": 65,
   "metadata": {},
   "outputs": [],
   "source": [
    "# a CatBoostClassifier was chosen as our basic model\n",
    "from catboost import CatBoostClassifier"
   ]
  },
  {
   "cell_type": "code",
   "execution_count": 66,
   "metadata": {},
   "outputs": [],
   "source": [
    "# some basic parameters\n",
    "params = {'depth': 10, 'n_estimators': 100, 'silent': True}"
   ]
  },
  {
   "cell_type": "code",
   "execution_count": 25,
   "metadata": {},
   "outputs": [],
   "source": [
    "basic_cat_boost = CatBoostClassifier(**params)"
   ]
  },
  {
   "cell_type": "code",
   "execution_count": 67,
   "metadata": {},
   "outputs": [],
   "source": [
    "# training the model and predicting values on the validation dataset\n",
    "basic_cat_boost.fit(X_train, y_train)\n",
    "y_pred = basic_cat_boost.predict(X_valid)"
   ]
  },
  {
   "cell_type": "code",
   "execution_count": 32,
   "metadata": {},
   "outputs": [
    {
     "output_type": "execute_result",
     "data": {
      "text/plain": [
       "0.9236478434486783"
      ]
     },
     "metadata": {},
     "execution_count": 32
    }
   ],
   "source": [
    "# checking the cross validation score of ROC curve\n",
    "cross_val_score(basic_cat_boost, X, y, cv=2, scoring='roc_auc').mean()"
   ]
  },
  {
   "cell_type": "code",
   "execution_count": 28,
   "metadata": {},
   "outputs": [],
   "source": [
    "# checking the cross validation score on balanced datasets\n",
    "# constructed for k neighbors\n",
    "from sklearn.model_selection import RepeatedStratifiedKFold"
   ]
  },
  {
   "cell_type": "code",
   "execution_count": 31,
   "metadata": {},
   "outputs": [
    {
     "output_type": "stream",
     "name": "stdout",
     "text": [
      "1->0.9329259320755977\n",
      "2->0.9278264588123986\n",
      "3->0.9318555671819164\n",
      "4->0.9289077834656441\n",
      "5->0.9262623930392213\n",
      "6->0.9307058288794623\n",
      "7->0.9319413472724349\n"
     ]
    }
   ],
   "source": [
    "neighbors = list(range(1,8))\n",
    "for k in neighbors:\n",
    "    model = basic_cat_boost\n",
    "    over = SMOTE(sampling_strategy=0.1, k_neighbors=k)\n",
    "    under = RandomUnderSampler(sampling_strategy=0.5)\n",
    "    steps = [('o', over), ('u', under), ('m', model)]\n",
    "\n",
    "    pipeline = Pipeline(steps=steps)\n",
    "    cv = RepeatedStratifiedKFold(n_splits=2, n_repeats=2, random_state=1)\n",
    "    score = cross_val_score(pipeline, X, y, scoring='roc_auc', n_jobs=-1)\n",
    "    score = np.mean(score)\n",
    "\n",
    "    print(f'{k}->{score}')"
   ]
  },
  {
   "cell_type": "code",
   "execution_count": 37,
   "metadata": {},
   "outputs": [],
   "source": [
    "# k = 1 was chosen\n",
    "over = SMOTE(sampling_strategy=0.1, k_neighbors=1)\n",
    "under = RandomUnderSampler(sampling_strategy=0.5)\n",
    "steps = [('o', over), ('u', under)]\n",
    "pipeline = Pipeline(steps=steps)\n",
    "X_smote, y_smote = pipeline.fit_resample(X,y)"
   ]
  },
  {
   "cell_type": "code",
   "execution_count": 38,
   "metadata": {},
   "outputs": [],
   "source": [
    "# comparison of value counts of the balanced and imbalanced dataset\n",
    "from collections import Counter"
   ]
  },
  {
   "cell_type": "code",
   "execution_count": 39,
   "metadata": {},
   "outputs": [
    {
     "output_type": "execute_result",
     "data": {
      "text/plain": [
       "Counter({1: 220, 0: 6599})"
      ]
     },
     "metadata": {},
     "execution_count": 39
    }
   ],
   "source": [
    "Counter(y)"
   ]
  },
  {
   "cell_type": "code",
   "execution_count": 40,
   "metadata": {},
   "outputs": [
    {
     "output_type": "execute_result",
     "data": {
      "text/plain": [
       "Counter({0: 1318, 1: 659})"
      ]
     },
     "metadata": {},
     "execution_count": 40
    }
   ],
   "source": [
    "Counter(y_smote)"
   ]
  },
  {
   "cell_type": "code",
   "execution_count": 50,
   "metadata": {},
   "outputs": [
    {
     "output_type": "execute_result",
     "data": {
      "text/plain": [
       "(1977, 95)"
      ]
     },
     "metadata": {},
     "execution_count": 50
    }
   ],
   "source": [
    "X_smote.shape"
   ]
  },
  {
   "cell_type": "code",
   "execution_count": 51,
   "metadata": {},
   "outputs": [],
   "source": [
    "# construct the new dataset\n",
    "dff  = pd.DataFrame(X_smote, columns=all_feats)\n",
    "dff[target] = y_smote"
   ]
  },
  {
   "cell_type": "code",
   "execution_count": 68,
   "metadata": {},
   "outputs": [],
   "source": [
    "dff.to_csv('data_balanced.csv')"
   ]
  },
  {
   "cell_type": "code",
   "execution_count": null,
   "metadata": {},
   "outputs": [],
   "source": []
  }
 ]
}